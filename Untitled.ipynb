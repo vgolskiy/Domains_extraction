{
 "cells": [
  {
   "cell_type": "code",
   "execution_count": 44,
   "metadata": {},
   "outputs": [
    {
     "ename": "TypeError",
     "evalue": "expected string or bytes-like object",
     "output_type": "error",
     "traceback": [
      "\u001b[1;31m---------------------------------------------------------------------------\u001b[0m",
      "\u001b[1;31mTypeError\u001b[0m                                 Traceback (most recent call last)",
      "\u001b[1;32m<ipython-input-44-ddfa432870bc>\u001b[0m in \u001b[0;36m<module>\u001b[1;34m()\u001b[0m\n\u001b[0;32m     23\u001b[0m \u001b[0mdomains_tmp\u001b[0m \u001b[1;33m=\u001b[0m \u001b[0mdomains_tmp\u001b[0m\u001b[1;33m.\u001b[0m\u001b[0mdrop_duplicates\u001b[0m\u001b[1;33m(\u001b[0m\u001b[1;33m)\u001b[0m \u001b[1;31m#removing duplicates\u001b[0m\u001b[1;33m\u001b[0m\u001b[0m\n\u001b[0;32m     24\u001b[0m \u001b[1;33m\u001b[0m\u001b[0m\n\u001b[1;32m---> 25\u001b[1;33m \u001b[1;32mif\u001b[0m \u001b[0mre\u001b[0m\u001b[1;33m.\u001b[0m\u001b[0mfindall\u001b[0m\u001b[1;33m(\u001b[0m\u001b[1;34mr\"xnp1ai\"\u001b[0m\u001b[1;33m,\u001b[0m \u001b[0mdomains_tmp\u001b[0m\u001b[1;33m)\u001b[0m\u001b[1;33m:\u001b[0m\u001b[1;33m\u001b[0m\u001b[0m\n\u001b[0m\u001b[0;32m     26\u001b[0m     \u001b[0mprint\u001b[0m\u001b[1;33m(\u001b[0m\u001b[0mre\u001b[0m\u001b[1;33m.\u001b[0m\u001b[0mfindall\u001b[0m\u001b[1;33m(\u001b[0m\u001b[1;34mr\"xn--p1ai\"\u001b[0m\u001b[1;33m,\u001b[0m \u001b[0mdomains_tmp\u001b[0m\u001b[1;33m)\u001b[0m\u001b[1;33m)\u001b[0m\u001b[1;33m\u001b[0m\u001b[0m\n\u001b[0;32m     27\u001b[0m \u001b[1;31m#    if re.search('xn--p1ai', xxx):\u001b[0m\u001b[1;33m\u001b[0m\u001b[1;33m\u001b[0m\u001b[0m\n",
      "\u001b[1;32mC:\\Programming\\Anaconda3\\lib\\re.py\u001b[0m in \u001b[0;36mfindall\u001b[1;34m(pattern, string, flags)\u001b[0m\n\u001b[0;32m    220\u001b[0m \u001b[1;33m\u001b[0m\u001b[0m\n\u001b[0;32m    221\u001b[0m     Empty matches are included in the result.\"\"\"\n\u001b[1;32m--> 222\u001b[1;33m     \u001b[1;32mreturn\u001b[0m \u001b[0m_compile\u001b[0m\u001b[1;33m(\u001b[0m\u001b[0mpattern\u001b[0m\u001b[1;33m,\u001b[0m \u001b[0mflags\u001b[0m\u001b[1;33m)\u001b[0m\u001b[1;33m.\u001b[0m\u001b[0mfindall\u001b[0m\u001b[1;33m(\u001b[0m\u001b[0mstring\u001b[0m\u001b[1;33m)\u001b[0m\u001b[1;33m\u001b[0m\u001b[0m\n\u001b[0m\u001b[0;32m    223\u001b[0m \u001b[1;33m\u001b[0m\u001b[0m\n\u001b[0;32m    224\u001b[0m \u001b[1;32mdef\u001b[0m \u001b[0mfinditer\u001b[0m\u001b[1;33m(\u001b[0m\u001b[0mpattern\u001b[0m\u001b[1;33m,\u001b[0m \u001b[0mstring\u001b[0m\u001b[1;33m,\u001b[0m \u001b[0mflags\u001b[0m\u001b[1;33m=\u001b[0m\u001b[1;36m0\u001b[0m\u001b[1;33m)\u001b[0m\u001b[1;33m:\u001b[0m\u001b[1;33m\u001b[0m\u001b[0m\n",
      "\u001b[1;31mTypeError\u001b[0m: expected string or bytes-like object"
     ]
    }
   ],
   "source": [
    "from pandas import DataFrame\n",
    "from urllib.parse import urlparse\n",
    "import re\n",
    "import idna\n",
    "\n",
    "netlock_tmp = []\n",
    "domains_tmp = []\n",
    "domains = []\n",
    "\n",
    "file_obj = open(\"urls_set.csv\", 'r', encoding='utf-8', errors='strict')\n",
    "for i, line in enumerate(file_obj):\n",
    "    data = urlparse(line.strip()) #line without unnecessary symbols + parsing\n",
    "    netlock_tmp.append(data.netloc)\n",
    "    \n",
    "for i in range(len(netlock_tmp)):\n",
    "    domains_tmp.append(netlock_tmp.pop().rsplit('.', 1)) #moving elements from one list to another with simultaneously deleting to save memory\n",
    "\n",
    "domains_tmp = DataFrame(domains_tmp, columns = ['A', 'B'])\n",
    "domains_tmp.drop(['A'], axis=1, inplace=True) #removing unnecessary data\n",
    "\n",
    "domains_tmp = domains_tmp['B'].str.split('\\:').str[0] #removing ports data\n",
    "\n",
    "domains_tmp = domains_tmp.drop_duplicates() #removing duplicates\n",
    "\n",
    "if re.findall(r\"xnp1ai\", domains_tmp):\n",
    "    print(re.findall(r\"xn--p1ai\", domains_tmp))\n",
    "#    if re.search('xn--p1ai', xxx):\n",
    "#        domains.append(idna.decode(xxx))\n",
    "#    else:\n",
    "#        domains.append(xxx)   \n",
    "#    if domains_tmp[i].find('xn--p1ai', beg=0, end=len(domains_tmp[i]))<0 domains.append(idna.decode(domains_tmp[i]))\n",
    "#    else domains.append(domains_tmp[i])\n",
    "\n",
    "   \n",
    "    \n",
    "#domains_tmp.to_csv('domains_list.csv', sep='\\n', encoding='utf-8', header = False, index = False) #writing to file"
   ]
  },
  {
   "cell_type": "code",
   "execution_count": 143,
   "metadata": {},
   "outputs": [
    {
     "data": {
      "text/html": [
       "<div>\n",
       "<style scoped>\n",
       "    .dataframe tbody tr th:only-of-type {\n",
       "        vertical-align: middle;\n",
       "    }\n",
       "\n",
       "    .dataframe tbody tr th {\n",
       "        vertical-align: top;\n",
       "    }\n",
       "\n",
       "    .dataframe thead th {\n",
       "        text-align: right;\n",
       "    }\n",
       "</style>\n",
       "<table border=\"1\" class=\"dataframe\">\n",
       "  <thead>\n",
       "    <tr style=\"text-align: right;\">\n",
       "      <th></th>\n",
       "      <th>0</th>\n",
       "      <th>1</th>\n",
       "    </tr>\n",
       "  </thead>\n",
       "  <tbody>\n",
       "    <tr>\n",
       "      <th>0</th>\n",
       "      <td>IGHV7</td>\n",
       "      <td>B*01</td>\n",
       "    </tr>\n",
       "    <tr>\n",
       "      <th>1</th>\n",
       "      <td>IGHV7</td>\n",
       "      <td>B*01</td>\n",
       "    </tr>\n",
       "    <tr>\n",
       "      <th>2</th>\n",
       "      <td>IGHV6</td>\n",
       "      <td>A*01</td>\n",
       "    </tr>\n",
       "  </tbody>\n",
       "</table>\n",
       "</div>"
      ],
      "text/plain": [
       "       0     1\n",
       "0  IGHV7  B*01\n",
       "1  IGHV7  B*01\n",
       "2  IGHV6  A*01"
      ]
     },
     "execution_count": 143,
     "metadata": {},
     "output_type": "execute_result"
    }
   ],
   "source": [
    "import pandas as pd\n",
    "\n",
    "df = [['IGHV7-B*01'],['IGHV7-B*01'],['IGHV6-A*01']]\n",
    "\n",
    "\n",
    "df = pd.DataFrame(df)\n",
    "\n",
    "df.columns = ['A']\n",
    "\n",
    "df['A'].str.split('-',expand=True)"
   ]
  },
  {
   "cell_type": "code",
   "execution_count": 26,
   "metadata": {},
   "outputs": [],
   "source": [
    "import re\n",
    "xx = \"http://xn-----7kcabbec2afz1as3apmjtgqh4hrf.xn--p1ai/dlya-komyutera/viber-dlya-windows-7\"\n",
    "if re.findall(r\"xnp1ai\",xx):\n",
    "    print(re.findall(r\"xn--p1ai\",xx))"
   ]
  },
  {
   "cell_type": "code",
   "execution_count": 55,
   "metadata": {},
   "outputs": [],
   "source": [
    "from pandas import DataFrame\n",
    "from urllib.parse import urlparse\n",
    "import re\n",
    "import idna\n",
    "\n",
    "netlock_tmp = []\n",
    "domains_tmp = []\n",
    "domains = []\n",
    "\n",
    "file_obj = open(\"urls_set.csv\", 'r', encoding='utf-8', errors='strict')\n",
    "for i, line in enumerate(file_obj):\n",
    "    data = urlparse(line.strip()) #line without unnecessary symbols + parsing\n",
    "    netlock_tmp.append(data.netloc)\n",
    "    \n",
    "for i in range(len(netlock_tmp)): #encoding the net location\n",
    "    if re.search('xn--p1ai', netlock_tmp[i]):\n",
    "        domains_tmp.append(idna.decode(netlock_tmp[i]))\n",
    "    else:\n",
    "        domains_tmp.append(netlock_tmp[i]) \n",
    "\n",
    "netlock_tmp = [] #clearing buffer\n",
    "\n",
    "for i in range(len(domains_tmp)):\n",
    "    domains.append(domains_tmp.pop().rsplit('.', 1)) #moving elements from one list to another with simultaneously deleting to save memory\n",
    "\n",
    "domains = DataFrame(domains, columns = ['A', 'B'])\n",
    "domains.drop(['A'], axis=1, inplace=True) #removing unnecessary data\n",
    "\n",
    "domains = domains['B'].str.split('\\:').str[0] #removing ports data\n",
    "\n",
    "domains = domains.drop_duplicates() #removing duplicates\n",
    "\n",
    "domains.to_csv('domains_list.csv', sep='\\n', encoding='utf-16', header = False, index = False) #writing to file"
   ]
  },
  {
   "cell_type": "code",
   "execution_count": null,
   "metadata": {},
   "outputs": [],
   "source": []
  }
 ],
 "metadata": {
  "kernelspec": {
   "display_name": "Python 3",
   "language": "python",
   "name": "python3"
  },
  "language_info": {
   "codemirror_mode": {
    "name": "ipython",
    "version": 3
   },
   "file_extension": ".py",
   "mimetype": "text/x-python",
   "name": "python",
   "nbconvert_exporter": "python",
   "pygments_lexer": "ipython3",
   "version": "3.6.4"
  }
 },
 "nbformat": 4,
 "nbformat_minor": 2
}
