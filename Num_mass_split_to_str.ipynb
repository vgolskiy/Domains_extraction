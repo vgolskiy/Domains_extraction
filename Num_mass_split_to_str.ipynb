{
 "cells": [
  {
   "cell_type": "code",
   "execution_count": 24,
   "metadata": {},
   "outputs": [
    {
     "name": "stdout",
     "output_type": "stream",
     "text": [
      "[0, 3, 9, 2, 11, 1, 4, 8, 5]\n",
      "012345,89,11\n"
     ]
    }
   ],
   "source": [
    "a = [0, 3, 9, 2, 11, 1, 4, 8, 5]\n",
    "tmp_st = 0\n",
    "tmp_end = 0\n",
    "result = ''\n",
    "\n",
    "print(a)\n",
    "\n",
    "a.sort()\n",
    "\n",
    "for i in range(len(a)-1):\n",
    "    if a[i+1]-a[i]>1:\n",
    "        tmp_end = i\n",
    "        for i in range(tmp_st, tmp_end + 1):\n",
    "            result = result + str(a[i])\n",
    "        tmp_st = tmp_end + 1\n",
    "        result = result + ','\n",
    "\n",
    "for i in range(tmp_st, len(a)):        \n",
    "    result = result + str(a[i])\n",
    "\n",
    "print(result) "
   ]
  },
  {
   "cell_type": "code",
   "execution_count": null,
   "metadata": {},
   "outputs": [],
   "source": []
  }
 ],
 "metadata": {
  "kernelspec": {
   "display_name": "Python 3",
   "language": "python",
   "name": "python3"
  },
  "language_info": {
   "codemirror_mode": {
    "name": "ipython",
    "version": 3
   },
   "file_extension": ".py",
   "mimetype": "text/x-python",
   "name": "python",
   "nbconvert_exporter": "python",
   "pygments_lexer": "ipython3",
   "version": "3.6.4"
  }
 },
 "nbformat": 4,
 "nbformat_minor": 2
}
