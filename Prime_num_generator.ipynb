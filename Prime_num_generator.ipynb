{
 "cells": [
  {
   "cell_type": "code",
   "execution_count": 27,
   "metadata": {},
   "outputs": [
    {
     "name": "stdout",
     "output_type": "stream",
     "text": [
      "Input number till what all natural numbers will be generated: 10\n"
     ]
    },
    {
     "data": {
      "text/plain": [
       "[2, 3, 5, 7]"
      ]
     },
     "execution_count": 27,
     "metadata": {},
     "output_type": "execute_result"
    }
   ],
   "source": [
    "#numbers conversion without optimization\n",
    "from math import sqrt\n",
    "\n",
    "tmp = []\n",
    "\n",
    "n = input('Input number till what all prime numbers will be generated: ')\n",
    "\n",
    "lst = list(range(2, int(n)+1))\n",
    "\n",
    "for i in range(len(lst)):\n",
    "    for j in range(i+1):        \n",
    "        if lst[j] < lst[i] and lst[i]%lst[j] == 0:\n",
    "            tmp.append(lst[i])\n",
    "\n",
    "lst = [x for x in lst if x not in tmp]\n",
    "\n",
    "lst"
   ]
  },
  {
   "cell_type": "code",
   "execution_count": 26,
   "metadata": {},
   "outputs": [
    {
     "name": "stdout",
     "output_type": "stream",
     "text": [
      "Input number till what all natural numbers will be generated: 20\n"
     ]
    },
    {
     "data": {
      "text/plain": [
       "[2, 3, 5, 7, 11, 13, 17, 19]"
      ]
     },
     "execution_count": 26,
     "metadata": {},
     "output_type": "execute_result"
    }
   ],
   "source": [
    "#numbers conversion with optimization\n",
    "from math import sqrt\n",
    "\n",
    "tmp = []\n",
    "\n",
    "n = input('Input number till what all prime numbers will be generated: ')\n",
    "\n",
    "lst = list(range(2, int(n)+1))\n",
    "\n",
    "for i in range(len(lst)):\n",
    "    for j in range(i+1):        \n",
    "        if lst[j] <= sqrt(lst[i]) and lst[i]%lst[j] == 0:\n",
    "            tmp.append(lst[i])\n",
    "\n",
    "lst = [x for x in lst if x not in tmp]\n",
    "\n",
    "lst"
   ]
  },
  {
   "cell_type": "code",
   "execution_count": 32,
   "metadata": {},
   "outputs": [
    {
     "name": "stdout",
     "output_type": "stream",
     "text": [
      "Input number till what all natural numbers will be generated: 1000\n",
      "[2, 3, 5, 7, 11, 13, 17, 19, 23, 29, 31, 37, 41, 43, 47, 53, 59, 61, 67, 71, 73, 79, 83, 89, 97, 101, 103, 107, 109, 113, 127, 131, 137, 139, 149, 151, 157, 163, 167, 173, 179, 181, 191, 193, 197, 199, 211, 223, 227, 229, 233, 239, 241, 251, 257, 263, 269, 271, 277, 281, 283, 293, 307, 311, 313, 317, 331, 337, 347, 349, 353, 359, 367, 373, 379, 383, 389, 397, 401, 409, 419, 421, 431, 433, 439, 443, 449, 457, 461, 463, 467, 479, 487, 491, 499, 503, 509, 521, 523, 541, 547, 557, 563, 569, 571, 577, 587, 593, 599, 601, 607, 613, 617, 619, 631, 641, 643, 647, 653, 659, 661, 673, 677, 683, 691, 701, 709, 719, 727, 733, 739, 743, 751, 757, 761, 769, 773, 787, 797, 809, 811, 821, 823, 827, 829, 839, 853, 857, 859, 863, 877, 881, 883, 887, 907, 911, 919, 929, 937, 941, 947, 953, 967, 971, 977, 983, 991, 997]\n",
      "--- 5.560027599334717 seconds ---\n"
     ]
    }
   ],
   "source": [
    "#numbers conversion without optimization and process duration in seconds\n",
    "from math import sqrt\n",
    "import time\n",
    "\n",
    "start_time = time.time()\n",
    "\n",
    "tmp = []\n",
    "\n",
    "n = input('Input number till what all prime numbers will be generated: ')\n",
    "\n",
    "lst = list(range(2, int(n)+1))\n",
    "\n",
    "for i in range(len(lst)):\n",
    "    for j in range(i+1):        \n",
    "        if lst[j] < lst[i] and lst[i]%lst[j] == 0:\n",
    "            tmp.append(lst[i])\n",
    "\n",
    "lst = [x for x in lst if x not in tmp]\n",
    "\n",
    "print(lst)\n",
    "print(\"--- %s seconds ---\" % (time.time() - start_time))"
   ]
  },
  {
   "cell_type": "code",
   "execution_count": 33,
   "metadata": {},
   "outputs": [
    {
     "name": "stdout",
     "output_type": "stream",
     "text": [
      "Input number till what all natural numbers will be generated: 1000\n",
      "[2, 3, 5, 7, 11, 13, 17, 19, 23, 29, 31, 37, 41, 43, 47, 53, 59, 61, 67, 71, 73, 79, 83, 89, 97, 101, 103, 107, 109, 113, 127, 131, 137, 139, 149, 151, 157, 163, 167, 173, 179, 181, 191, 193, 197, 199, 211, 223, 227, 229, 233, 239, 241, 251, 257, 263, 269, 271, 277, 281, 283, 293, 307, 311, 313, 317, 331, 337, 347, 349, 353, 359, 367, 373, 379, 383, 389, 397, 401, 409, 419, 421, 431, 433, 439, 443, 449, 457, 461, 463, 467, 479, 487, 491, 499, 503, 509, 521, 523, 541, 547, 557, 563, 569, 571, 577, 587, 593, 599, 601, 607, 613, 617, 619, 631, 641, 643, 647, 653, 659, 661, 673, 677, 683, 691, 701, 709, 719, 727, 733, 739, 743, 751, 757, 761, 769, 773, 787, 797, 809, 811, 821, 823, 827, 829, 839, 853, 857, 859, 863, 877, 881, 883, 887, 907, 911, 919, 929, 937, 941, 947, 953, 967, 971, 977, 983, 991, 997]\n",
      "--- 3.022517204284668 seconds ---\n"
     ]
    }
   ],
   "source": [
    "#numbers conversion with optimization and process duration in seconds\n",
    "from math import sqrt\n",
    "import time\n",
    "\n",
    "start_time = time.time()\n",
    "\n",
    "tmp = []\n",
    "\n",
    "n = input('Input number till what all prime numbers will be generated: ')\n",
    "\n",
    "lst = list(range(2, int(n)+1))\n",
    "\n",
    "for i in range(len(lst)):\n",
    "    for j in range(i+1):        \n",
    "        if lst[j] <= sqrt(lst[i]) and lst[i]%lst[j] == 0:\n",
    "            tmp.append(lst[i])\n",
    "\n",
    "lst = [x for x in lst if x not in tmp]\n",
    "\n",
    "print(lst)\n",
    "print(\"--- %s seconds ---\" % (time.time() - start_time))"
   ]
  }
 ],
 "metadata": {
  "kernelspec": {
   "display_name": "Python 3",
   "language": "python",
   "name": "python3"
  },
  "language_info": {
   "codemirror_mode": {
    "name": "ipython",
    "version": 3
   },
   "file_extension": ".py",
   "mimetype": "text/x-python",
   "name": "python",
   "nbconvert_exporter": "python",
   "pygments_lexer": "ipython3",
   "version": "3.6.4"
  }
 },
 "nbformat": 4,
 "nbformat_minor": 2
}
