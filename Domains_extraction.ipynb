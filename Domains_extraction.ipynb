{
 "cells": [
  {
   "cell_type": "code",
   "execution_count": 55,
   "metadata": {},
   "outputs": [],
   "source": [
    "from pandas import DataFrame\n",
    "from urllib.parse import urlparse\n",
    "import re\n",
    "import idna\n",
    "\n",
    "netlock_tmp = []\n",
    "domains_tmp = []\n",
    "domains = []\n",
    "\n",
    "file_obj = open(\"urls_set.csv\", 'r', encoding='utf-8', errors='strict')\n",
    "for i, line in enumerate(file_obj):\n",
    "    data = urlparse(line.strip()) #line without unnecessary symbols + parsing\n",
    "    netlock_tmp.append(data.netloc)\n",
    "    \n",
    "for i in range(len(netlock_tmp)): #encoding the net location\n",
    "    if re.search('xn--p1ai', netlock_tmp[i]):\n",
    "        domains_tmp.append(idna.decode(netlock_tmp[i]))\n",
    "    else:\n",
    "        domains_tmp.append(netlock_tmp[i]) \n",
    "\n",
    "netlock_tmp = [] #clearing buffer\n",
    "\n",
    "for i in range(len(domains_tmp)):\n",
    "    domains.append(domains_tmp.pop().rsplit('.', 1)) #moving elements from one list to another with simultaneously deleting to save memory\n",
    "\n",
    "domains = DataFrame(domains, columns = ['A', 'B'])\n",
    "domains.drop(['A'], axis=1, inplace=True) #removing unnecessary data\n",
    "\n",
    "domains = domains['B'].str.split('\\:').str[0] #removing ports data\n",
    "\n",
    "domains = domains.drop_duplicates() #removing duplicates\n",
    "\n",
    "domains.to_csv('domains_list.csv', sep='\\n', encoding='utf-16', header = False, index = False) #writing to file"
   ]
  }
 ],
 "metadata": {
  "kernelspec": {
   "display_name": "Python 3",
   "language": "python",
   "name": "python3"
  },
  "language_info": {
   "codemirror_mode": {
    "name": "ipython",
    "version": 3
   },
   "file_extension": ".py",
   "mimetype": "text/x-python",
   "name": "python",
   "nbconvert_exporter": "python",
   "pygments_lexer": "ipython3",
   "version": "3.6.4"
  }
 },
 "nbformat": 4,
 "nbformat_minor": 2
}
